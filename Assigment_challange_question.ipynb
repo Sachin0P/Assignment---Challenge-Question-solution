{
  "nbformat": 4,
  "nbformat_minor": 0,
  "metadata": {
    "colab": {
      "provenance": [],
      "authorship_tag": "ABX9TyNJm5CWKV1F7u+Jfpc8Bc6Z",
      "include_colab_link": true
    },
    "kernelspec": {
      "name": "python3",
      "display_name": "Python 3"
    },
    "language_info": {
      "name": "python"
    }
  },
  "cells": [
    {
      "cell_type": "markdown",
      "metadata": {
        "id": "view-in-github",
        "colab_type": "text"
      },
      "source": [
        "<a href=\"https://colab.research.google.com/github/Sachin0P/Assignment---Challenge-Question-solution/blob/main/Assigment_challange_question.ipynb\" target=\"_parent\"><img src=\"https://colab.research.google.com/assets/colab-badge.svg\" alt=\"Open In Colab\"/></a>"
      ]
    },
    {
      "cell_type": "markdown",
      "source": [
        "Assigment challange question\n"
      ],
      "metadata": {
        "id": "MruRySaRoTvP"
      }
    },
    {
      "cell_type": "markdown",
      "source": [
        "option 1"
      ],
      "metadata": {
        "id": "Mz1eC4JFoa6k"
      }
    },
    {
      "cell_type": "code",
      "execution_count": 1,
      "metadata": {
        "colab": {
          "base_uri": "https://localhost:8080/"
        },
        "id": "FRgSnEW6oS2X",
        "outputId": "2d4974f6-6a66-47ca-df30-b3b70fa37c28"
      },
      "outputs": [
        {
          "output_type": "stream",
          "name": "stdout",
          "text": [
            "['1', '2', '3', 'Ram', 'Rana', 'Shyam']\n"
          ]
        }
      ],
      "source": [
        "L=['Ram',1,'Shyam',2,'Rana',3]\n",
        "\n",
        "G=[]\n",
        "for i in range(0,len(L)):\n",
        "    G.append(0)\n",
        "    G[i]=str(L[i])\n",
        "\n",
        "G.sort()\n",
        "print(G)"
      ]
    },
    {
      "cell_type": "markdown",
      "source": [
        "option 2"
      ],
      "metadata": {
        "id": "4yIMB44wod0Q"
      }
    },
    {
      "cell_type": "code",
      "source": [
        "L=['Ram',1,'Shyam',2,'Rana',3]\n",
        "\n",
        "L1=[]\n",
        "L2=[]\n",
        "\n",
        "for i in L:\n",
        "    try:\n",
        "        L1.append(int(i))\n",
        "    except:\n",
        "        L2.append(i)\n",
        "\n",
        "L1.sort()\n",
        "L2.sort()\n",
        "L3=L1+L2\n",
        "print(L3)"
      ],
      "metadata": {
        "colab": {
          "base_uri": "https://localhost:8080/"
        },
        "id": "d9eXEb5woevs",
        "outputId": "f12d97c2-8357-4e61-bb40-7fb054e4d8be"
      },
      "execution_count": 2,
      "outputs": [
        {
          "output_type": "stream",
          "name": "stdout",
          "text": [
            "[1, 2, 3, 'Ram', 'Rana', 'Shyam']\n"
          ]
        }
      ]
    }
  ]
}